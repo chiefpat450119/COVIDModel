{
  "nbformat": 4,
  "nbformat_minor": 0,
  "metadata": {
    "colab": {
      "provenance": []
    },
    "kernelspec": {
      "name": "python3",
      "display_name": "Python 3"
    },
    "language_info": {
      "name": "python"
    }
  },
  "cells": [
    {
      "cell_type": "code",
      "source": [
        "!pip install matplotlib\n",
        "!pip install pandas\n",
        "!pip install scipy\n",
        "!pip install plotly\n",
        "!pip install lmfit"
      ],
      "metadata": {
        "id": "te320HYF7XFr"
      },
      "execution_count": null,
      "outputs": []
    },
    {
      "cell_type": "code",
      "source": [
        "!pip install -U kaleido"
      ],
      "metadata": {
        "id": "ekEaILY-8mNY"
      },
      "execution_count": null,
      "outputs": []
    },
    {
      "cell_type": "code",
      "execution_count": null,
      "metadata": {
        "id": "Gb74cCq46ahS"
      },
      "outputs": [],
      "source": [
        "import os\n",
        "import sys\n",
        "import matplotlib.pyplot as plt\n",
        "import numpy as np\n",
        "import pandas as pd\n",
        "from scipy.integrate import odeint\n",
        "import plotly.graph_objects as go\n",
        "import plotly.io as pio\n",
        "import requests\n",
        "from lmfit import minimize, Parameters, Parameter, report_fit\n",
        "pio.renderers.default = \"notebook\"\n",
        "%matplotlib inline\n",
        "plt.style.use('ggplot')"
      ]
    },
    {
      "cell_type": "code",
      "source": [
        "# Jupyter Specifics\n",
        "from IPython.display import HTML\n",
        "from ipywidgets.widgets import interact, IntSlider, FloatSlider, Layout, ToggleButton, ToggleButtons\n",
        "\n",
        "style = {'description_width': '100px'}\n",
        "slider_layout = Layout(width='99%')"
      ],
      "metadata": {
        "id": "0S1CKHP-6kFa"
      },
      "execution_count": null,
      "outputs": []
    },
    {
      "cell_type": "code",
      "source": [
        "def ode_model(z, t, beta, sigma, gamma, mu, kappa):\n",
        "    \"\"\"\n",
        "    Reference https://www.idmod.org/docs/hiv/model-seir.html\n",
        "    \"\"\"\n",
        "    S, E, I, R, D = z\n",
        "    N = S + E + I + R + D\n",
        "    dSdt = -beta*S*I/N\n",
        "    dEdt = beta*S*I/N - sigma*E + kappa*R*I/N\n",
        "    dIdt = sigma*E - gamma*I - mu*I\n",
        "    dRdt = gamma*I - kappa*R*I/N\n",
        "    dDdt = mu*I\n",
        "    return [dSdt, dEdt, dIdt, dRdt, dDdt]"
      ],
      "metadata": {
        "id": "jsSfumu56l0U"
      },
      "execution_count": null,
      "outputs": []
    },
    {
      "cell_type": "code",
      "source": [
        "def ode_solver(t, initial_conditions, params):\n",
        "    initE, initI, initR, initN, initD = initial_conditions\n",
        "    beta, sigma, gamma, mu, kappa = params['beta'].value, params['sigma'].value, params['gamma'].value, params['mu'].value, params['kappa'].value\n",
        "    initS = initN - (initE + initI + initR + initD)\n",
        "    res = odeint(ode_model, [initS, initE, initI, initR, initD], t, args=(beta, sigma, gamma, mu, kappa))\n",
        "    return res"
      ],
      "metadata": {
        "id": "SqmnhXRx6mAt"
      },
      "execution_count": null,
      "outputs": []
    },
    {
      "cell_type": "code",
      "source": [
        "df_covid_history = pd.read_csv('omicronvariant.csv')\n",
        "df_covid_history = df_covid_history.sort_values(by='day')\n",
        "df_covid_history['infected'] = df_covid_history['total'] - df_covid_history['discharged'] - df_covid_history['deaths']\n",
        "df_covid_history['total_recovered_or_dead'] = df_covid_history['discharged'] + df_covid_history['deaths']"
      ],
      "metadata": {
        "id": "7YUiPa3N6tjH"
      },
      "execution_count": null,
      "outputs": []
    },
    {
      "cell_type": "code",
      "source": [
        "df_covid_history.head()"
      ],
      "metadata": {
        "id": "5EIJ5gXh6v0h"
      },
      "execution_count": null,
      "outputs": []
    },
    {
      "cell_type": "code",
      "source": [
        "initN = 5686000\n",
        "initE = 30000\n",
        "initI = 9196\n",
        "initR = 286037\n",
        "initD = 844\n",
        "sigma = 1/3\n",
        "gamma = 1\n",
        "mu = 0.001\n",
        "r0 = 7\n",
        "beta = r0 * gamma\n",
        "kappa = beta*0.44\n",
        "days = 49\n",
        "\n",
        "params = Parameters()\n",
        "params.add('beta', value=beta, min=0, max=50)\n",
        "params.add('sigma', value=sigma, min=0, max=20)\n",
        "params.add('gamma', value=gamma, min=0, max=20)\n",
        "params.add('mu', value=mu, min=0, max=10)\n",
        "params.add('kappa', value=kappa, min=0, max=10)"
      ],
      "metadata": {
        "id": "YDaaUCb56yj0"
      },
      "execution_count": null,
      "outputs": []
    },
    {
      "cell_type": "code",
      "source": [
        "def main(initE, initI, initR, initD, initN, beta, sigma, gamma, mu, kappa, days, param_fitting):\n",
        "    initial_conditions = [initE, initI, initR, initN, initD]\n",
        "    params['beta'].value, params['sigma'].value,params['gamma'].value, params['mu'].value, params['kappa'].value = [beta, sigma, gamma, mu, kappa]\n",
        "    tspan = np.arange(0, days, 1)\n",
        "    sol = ode_solver(tspan, initial_conditions, params)\n",
        "    S, E, I, R, D = sol[:, 0], sol[:, 1], sol[:, 2], sol[:, 3], sol[:, 4]\n",
        "    \n",
        "    # Create traces\n",
        "    fig = go.Figure()\n",
        "    if not param_fitting:\n",
        "        fig.add_trace(go.Scatter(x=tspan, y=S, mode='lines+markers', name='Susceptible'))\n",
        "        fig.add_trace(go.Scatter(x=tspan, y=E, mode='lines+markers', name='Exposed'))\n",
        "    fig.add_trace(go.Scatter(x=tspan, y=I, mode='lines+markers', name='Infected'))\n",
        "    fig.add_trace(go.Scatter(x=tspan, y=R, mode='lines+markers',name='Recovered'))\n",
        "    fig.add_trace(go.Scatter(x=tspan, y=D, mode='lines+markers',name='Death'))\n",
        "    if param_fitting:\n",
        "        fig.add_trace(go.Scatter(x=tspan, y=df_covid_history.infected, mode='lines+markers',\\\n",
        "                             name='Infections Observed', line = dict(dash='dash')))\n",
        "        fig.add_trace(go.Scatter(x=tspan, y=df_covid_history.discharged, mode='lines+markers',\\\n",
        "                             name='Recovered Observed', line = dict(dash='dash')))\n",
        "        fig.add_trace(go.Scatter(x=tspan, y=df_covid_history.deaths, mode='lines+markers',\\\n",
        "                             name='Deaths Observed', line = dict(dash='dash')))\n",
        "    \n",
        "    if days <= 30:\n",
        "        step = 1\n",
        "    elif days <= 90:\n",
        "        step = 7\n",
        "    else:\n",
        "        step = 30\n",
        "    \n",
        "    # Edit the layout\n",
        "    fig.update_layout(title='Simulation of SEIRD Model',\n",
        "                       xaxis_title='Day',\n",
        "                       yaxis_title='Counts',\n",
        "                       title_x=0.5,\n",
        "                      width=900, height=600\n",
        "                     )\n",
        "    fig.update_xaxes(tickangle=-90, tickformat = None, tickmode='array', tickvals=np.arange(0, days + 1, step))\n",
        "    if not os.path.exists(\"images\"):\n",
        "        os.mkdir(\"images\")\n",
        "    fig.write_image(\"images/seird_simulation.png\")\n",
        "    fig.show()"
      ],
      "metadata": {
        "id": "jFOVqbUq6ypT"
      },
      "execution_count": null,
      "outputs": []
    },
    {
      "cell_type": "code",
      "source": [
        "def error(params, initial_conditions, tspan, data):\n",
        "    sol = ode_solver(tspan, initial_conditions, params)\n",
        "    return (sol[:, 2:5] - data).ravel()"
      ],
      "metadata": {
        "id": "Ftl95C086zF6"
      },
      "execution_count": null,
      "outputs": []
    },
    {
      "cell_type": "code",
      "source": [
        "initial_conditions = [initE, initI, initR, initN, initD]\n",
        "params['beta'].value = beta\n",
        "params['sigma'].value = sigma\n",
        "params['gamma'].value = gamma\n",
        "params['mu'].value = mu\n",
        "params['kappa'].value = kappa\n",
        "tspan = np.arange(0, days, 1)\n",
        "data = df_covid_history.loc[0:(days-1), ['infected', 'discharged', 'deaths']].values"
      ],
      "metadata": {
        "id": "CWjCLxDk6zH_"
      },
      "execution_count": null,
      "outputs": []
    },
    {
      "cell_type": "code",
      "source": [
        "data.shape"
      ],
      "metadata": {
        "id": "vU0kShaX6_9c"
      },
      "execution_count": null,
      "outputs": []
    },
    {
      "cell_type": "code",
      "source": [
        "params"
      ],
      "metadata": {
        "id": "wwgGebMn6zJ_"
      },
      "execution_count": null,
      "outputs": []
    },
    {
      "cell_type": "code",
      "source": [
        "result = minimize(error, params, args=(initial_conditions, tspan, data), method='leastsq')"
      ],
      "metadata": {
        "id": "Rbdn_rDr6zL4"
      },
      "execution_count": null,
      "outputs": []
    },
    {
      "cell_type": "code",
      "source": [
        "result.params"
      ],
      "metadata": {
        "id": "m4bMiJyg6zN5"
      },
      "execution_count": null,
      "outputs": []
    },
    {
      "cell_type": "code",
      "source": [
        "report_fit(result)"
      ],
      "metadata": {
        "id": "-PQzJSlZ7FSo"
      },
      "execution_count": null,
      "outputs": []
    },
    {
      "cell_type": "code",
      "source": [
        "observed_IRD = df_covid_history.loc[:, ['infected', 'discharged', 'deaths']].values\n",
        "print(observed_IRD.shape)"
      ],
      "metadata": {
        "id": "TYai6zlR7Iw_"
      },
      "execution_count": null,
      "outputs": []
    },
    {
      "cell_type": "code",
      "source": [
        "tspan_fit_pred = np.arange(0, observed_IRD.shape[0], 1)\n",
        "params['beta'].value = result.params['beta'].value\n",
        "params['sigma'].value = result.params['sigma'].value\n",
        "params['gamma'].value = result.params['gamma'].value\n",
        "params['mu'].value = result.params['mu'].value\n",
        "params['kappa'].value = result.params['kappa'].value\n",
        "fitted_predicted = ode_solver(tspan_fit_pred, initial_conditions, params)"
      ],
      "metadata": {
        "id": "d9PH8_RR7KMj"
      },
      "execution_count": null,
      "outputs": []
    },
    {
      "cell_type": "code",
      "source": [
        "fitted_predicted_IRD = fitted_predicted[:, 2:5]\n",
        "print(fitted_predicted_IRD.shape)"
      ],
      "metadata": {
        "id": "WsF664Vj7Lnt"
      },
      "execution_count": null,
      "outputs": []
    },
    {
      "cell_type": "code",
      "source": [
        "print(\"Fitted MAE\")\n",
        "print('Infected: ', np.mean(np.abs(fitted_predicted_IRD[:days, 0] - observed_IRD[:days, 0])))\n",
        "print('Recovered: ', np.mean(np.abs(fitted_predicted_IRD[:days, 1] - observed_IRD[:days, 1])))\n",
        "print('Dead: ', np.mean(np.abs(fitted_predicted_IRD[:days, 2] - observed_IRD[:days, 2])))\n",
        "\n",
        "print(\"\\nFitted RMSE\")\n",
        "print('Infected: ', np.sqrt(np.mean((fitted_predicted_IRD[:days, 0] - observed_IRD[:days, 0])**2)))\n",
        "print('Recovered: ', np.sqrt(np.mean((fitted_predicted_IRD[:days, 1] - observed_IRD[:days, 1])**2)))\n",
        "print('Dead: ', np.sqrt(np.mean((fitted_predicted_IRD[:days, 2] - observed_IRD[:days, 2])**2)))"
      ],
      "metadata": {
        "id": "kRWKPhb47M0-"
      },
      "execution_count": null,
      "outputs": []
    },
    {
      "cell_type": "code",
      "source": [
        "print(\"Predicted MAE\")\n",
        "print('Infected: ', np.mean(np.abs(fitted_predicted_IRD[days:observed_IRD.shape[0], 0] - observed_IRD[days:, 0])))\n",
        "print('Recovered: ', np.mean(np.abs(fitted_predicted_IRD[days:observed_IRD.shape[0], 1] - observed_IRD[days:, 1])))\n",
        "print('Dead: ', np.mean(np.abs(fitted_predicted_IRD[days:observed_IRD.shape[0], 2] - observed_IRD[days:, 2])))\n",
        "\n",
        "print(\"\\nPredicted RMSE\")\n",
        "print('Infected: ', np.sqrt(np.mean((fitted_predicted_IRD[days:observed_IRD.shape[0], 0] - observed_IRD[days:, 0])**2)))\n",
        "print('Recovered: ', np.sqrt(np.mean((fitted_predicted_IRD[days:observed_IRD.shape[0], 1] - observed_IRD[days:, 1])**2)))\n",
        "print('Dead: ', np.sqrt(np.mean((fitted_predicted_IRD[days:observed_IRD.shape[0], 2] - observed_IRD[days:, 2])**2)))"
      ],
      "metadata": {
        "id": "9GqTwuLH7Opd"
      },
      "execution_count": null,
      "outputs": []
    }
  ]
}